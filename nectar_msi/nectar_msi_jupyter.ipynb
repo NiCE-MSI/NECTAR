{
 "cells": [
  {
   "cell_type": "markdown",
   "id": "1f52a5b1-6429-430b-b521-f0a29c6b64fb",
   "metadata": {},
   "source": [
    "NECTAR-MSI: NoisE CorrecTion AlgoRithm in MSI\n",
    "\n",
    "With NECTAR you can obtain a de-noised list of compounds of interest from your .imzML mass-spectrometry-imaging data.  \n",
    "NECTAR applies baseline correction, determines signal/noise in the mean spectrum, as well as correct from chemical noise (sinusoidal noise). In addition, if your imaging data has a background area around the sample of interest (e.g., tissue), NECTAR applies imaging background noise correction.\n",
    "\n",
    "Here we show the basic steps to obtain your final list of compounds of interest. More details in (ref to paper)"
   ]
  },
  {
   "cell_type": "markdown",
   "id": "ce0c58e7-0f24-4bb2-92e0-0092b9cf44bc",
   "metadata": {},
   "source": [
    "Run the next cell to load the necessary packages. (You need to install nectar-msi. You can do this with pip install nectar-msi)"
   ]
  },
  {
   "cell_type": "code",
   "execution_count": null,
   "id": "d376a48f-de70-491c-b69a-894ac79b6bc7",
   "metadata": {},
   "outputs": [],
   "source": [
    "from nectar-msi import Readers, Savers, DataOperations, NoiseCorrection, PeakPicking, DatabaseMatching, Plotting\n",
    "import sys"
   ]
  },
  {
   "cell_type": "markdown",
   "id": "d55bd466-effd-4372-831a-5468d8baa89a",
   "metadata": {},
   "source": [
    "-NEEDS INPUT-\n",
    "\n",
    "Define the paths to your datafile, and the path where you want to save the ouputs.\n"
   ]
  },
  {
   "cell_type": "code",
   "execution_count": null,
   "id": "fa7bdb4c-0cdc-42a5-aeaa-0786924917fa",
   "metadata": {},
   "outputs": [],
   "source": [
    "path_data = \"...\"\n",
    "file = \"example.imzML\"  # Example dataset\n",
    "path_outputs = \"...\"\n",
    "\n",
    "polarity = \"...\" # To determine the adducts of interst for the HMDB database matching step (optional)\n",
    "modality = \"MALDI\" # example of used modality"
   ]
  },
  {
   "cell_type": "markdown",
   "id": "f1981249-64dd-48f3-ade0-507157ae6b20",
   "metadata": {},
   "source": [
    "Run the next cell to read the .imzML data, and the \"tissue only\" mean spectrum provided as example. \n",
    "(We provide the mean spectrum of the tissue only, as creating the different mean spectra takes a long time)."
   ]
  },
  {
   "cell_type": "code",
   "execution_count": null,
   "id": "f78853a4-4d39-43a5-9d8f-0e9e5e8c8227",
   "metadata": {},
   "outputs": [],
   "source": [
    "data = reader.read_imzml(path_data + file)\n",
    "mean_tissue = reader.read_hdf5_spectrum(path_outputs + 'mean_tissue.hdf5')"
   ]
  },
  {
   "cell_type": "markdown",
   "id": "4e09dc97-9c64-4fc3-8fac-3e52fe10e9b9",
   "metadata": {},
   "source": [
    "If you want to create the mean spectrum yourself, you can run the next cell. \n",
    "After creating \"total_mean\" (mean spectrum of the whole imzML file), you can separate tissue and background using K-means (cluster number = 2). "
   ]
  },
  {
   "cell_type": "code",
   "execution_count": null,
   "id": "c633fb1e-db05-4351-bede-4d97cddbb725",
   "metadata": {},
   "outputs": [],
   "source": [
    "total_mean = dataop.get_mean_spectrum(data)\n",
    "saver.save_spectrum_hdf5(path_outputs + 'total_mean.hdf5', total_mean) # save the mean spectrum in outputs_path\n",
    "\n",
    "data_masked = dataop.background_subtraction(data, total_mean, path_outputs, n_clusters=2, show_plot=True)\n",
    "saver.save_hdf5(path_outputs + 'example_masked.hdf5', data_masked) # save the masked datacube in outputs_path in .hdf5 format.\n",
    "#saver.save_imzML(path_outputs + 'example_masked.imzML', data_masked) # It can be saved in imzML format as well.\n",
    "\n",
    "# data_masked = reader.read_hdf5(path_outputs + 'example_masked.hdf5') # Reads the masked data in hdf5 format.\n",
    "# data_masked = reader.read_imzML(path_outputs + 'example_masked.imzML') # Reads the masked data in imzML format."
   ]
  },
  {
   "cell_type": "markdown",
   "id": "78d40e6b-141f-421e-8fb4-c4dba3388a27",
   "metadata": {},
   "source": [
    "-NEEDS INPUT-\n",
    "\n",
    "You can create the mean spectra for tissue and backgkround. \n",
    "NECTAR will ask you for the cluster number corresponding to tissue and background area, so you would need to check this in the image created when running the previous cell (background_subtraction)."
   ]
  },
  {
   "cell_type": "code",
   "execution_count": null,
   "id": "cef1b1d9-b663-430a-8a83-eda80f8e9a7a",
   "metadata": {},
   "outputs": [],
   "source": [
    "mean_tissue, mean_background = dataop.get_mean_spectrum_tissue_background(data_masked)\n",
    "\n",
    "saver.save_spectrum_hdf5(path_outputs + 'mean_background.hdf5', mean_background) \n",
    "saver.save_spectrum_hdf5(path_outputs + 'mean_tissue.hdf5', mean_tissue)\n",
    "\n",
    "# mean_tissue = reader.read_hdf5_spectrum(path_outputs + 'mean_tissue.hdf5')\n",
    "# mean_background = reader.read_hdf5_spectrum(path_outputs + 'mean_background.hdf5')"
   ]
  },
  {
   "cell_type": "markdown",
   "id": "a2e83afd-45de-43a4-95a7-c8c36722dc86",
   "metadata": {},
   "source": [
    "The next cell applies baseline and chemical noise correction on the mean spectrum of interest (tissue only), and identifies spatial background noise peaks. "
   ]
  },
  {
   "cell_type": "code",
   "execution_count": null,
   "id": "6d641275-b8a7-4ca5-b25e-108cd14ca803",
   "metadata": {},
   "outputs": [],
   "source": [
    "mean_tissue_corrected = noisecorrection.noise_correction_with_chemical_noise(mean_tissue, plot_noise=True, plot_chemicalnoise=True)\n",
    "#mean_tissue_corrected = noisecorrection.noise_correction(mean_tissue, plot_noise=True) # if your data does not have sinusoidal chemical noise you can determine signal and noise with the SigmaClipping function only.\n",
    "\n",
    "saver.save_spectrum_hdf5(path_outputs + 'mean_tissue_corrected.hdf5', mean_tissue_corrected) # to save the corrected spectrum\n",
    "#mean_tissue_corrected = reader.read_hdf5_spectrum(path_outputs + 'mean_tissue_corrected.hdf5') # to read the spectrum\n",
    "\n",
    "# Determination of all peaks of interst above the noise level\n",
    "list_of_fittings, full_list_of_fittings = peakpicking.peak_picking(mean_tissue_corrected, path_outputs, plot_peaks=True, save_tables=True,\n",
    "                                                                   save_fitting=False)\n",
    "#full_list_of_fittings = pd.read_csv(\"X:\\\\Ariadna\\\\PDAC\\\\MALDI\\\\nectar_outputs\\\\full_list_of_fittings.csv\")\n",
    "\n",
    "# Background noise correction\n",
    "peaks_classification = noisecorrection.backgroundnoise.background_noise_imaging(data_masked, mean_tissue_corrected, full_list_of_fittings, path_outputs,\n",
    "                                                                                save_plot_backgroundNoise=True)\n",
    "#peaks_classification = pd.read_csv(\"X:\\\\Ariadna\\\\PDAC\\\\MALDI\\\\nectar_outputs\\\\Peaks_classification.csv\")\n"
   ]
  },
  {
   "cell_type": "markdown",
   "id": "6785fa03-3767-4834-8776-9101aa7479b2",
   "metadata": {},
   "source": [
    "Final selection of peaks according to S/N ratio and diff. "
   ]
  },
  {
   "cell_type": "code",
   "execution_count": null,
   "id": "3f63fc86-a729-4339-804f-2f991b91f4d1",
   "metadata": {},
   "outputs": [],
   "source": [
    "final_list = peaks_classification.loc[(peaks_classification['diff[Tis/bak] S/N'] >= 0) &\n",
    "                                      (peaks_classification['ratio[Tis/bak] S/N'] >= 5)]\n",
    "\n",
    "#final_list.to_csv(\"X:\\\\Ariadna\\\\PDAC\\\\MALDI\\\\nectar_outputs\\\\Compounds_of_interest_final_list.csv\", index=False)"
   ]
  },
  {
   "cell_type": "markdown",
   "id": "a7f3397d-2b87-4eec-85a3-d92271e09f52",
   "metadata": {},
   "source": [
    "To create the single ion images for the final list of compounds of interest, run the next cell."
   ]
  },
  {
   "cell_type": "code",
   "execution_count": null,
   "id": "8fe6d346-f0e6-41a3-9782-28a76719e8e5",
   "metadata": {},
   "outputs": [],
   "source": [
    "plotting.plot_sii_final_list(data, mean_tissue_corrected, final_list, path_outputs, save_fig=True)"
   ]
  },
  {
   "cell_type": "markdown",
   "id": "2115d3e6-81a1-451f-9a4f-834c39087cd0",
   "metadata": {},
   "source": [
    "The next cell allows you to save the reduced datacube in imzML, hdf5 or .mat format."
   ]
  },
  {
   "cell_type": "code",
   "execution_count": null,
   "id": "4e5336dd-8862-4b05-8e29-7aa140f22b71",
   "metadata": {},
   "outputs": [],
   "source": [
    "saver.save_final_DataCube(data_masked, final_list, path_outputs, save_imzml=True, save_hdf5=False, save_mat=False)"
   ]
  },
  {
   "cell_type": "raw",
   "id": "3020ec6f-a639-4917-bee5-1e82e29eaddf",
   "metadata": {},
   "source": [
    "If you want to cross match your database with the HMDB database, you can run the next section. This will give you an attepted identification for the ions of interest."
   ]
  },
  {
   "cell_type": "code",
   "execution_count": null,
   "id": "d9a420bc-667b-41df-a86e-a19d4dda993a",
   "metadata": {},
   "outputs": [],
   "source": [
    "databasematching.database_matching(final_list, polarity, modality, path_outputs, ppm=30.)"
   ]
  }
 ],
 "metadata": {
  "kernelspec": {
   "display_name": "Python 3 (ipykernel)",
   "language": "python",
   "name": "python3"
  },
  "language_info": {
   "codemirror_mode": {
    "name": "ipython",
    "version": 3
   },
   "file_extension": ".py",
   "mimetype": "text/x-python",
   "name": "python",
   "nbconvert_exporter": "python",
   "pygments_lexer": "ipython3",
   "version": "3.9.17"
  }
 },
 "nbformat": 4,
 "nbformat_minor": 5
}
